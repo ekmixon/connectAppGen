{
 "cells": [
  {
   "cell_type": "markdown",
   "metadata": {},
   "source": [
    "# connectAppGen Web "
   ]
  },
  {
   "cell_type": "markdown",
   "metadata": {},
   "source": [
    "## 1. Application Settings"
   ]
  },
  {
   "cell_type": "code",
   "execution_count": 1,
   "metadata": {},
   "outputs": [
    {
     "data": {
      "application/vnd.jupyter.widget-view+json": {
       "model_id": "72a7f3df44bd4c2aba3e10f7e55b7fd6",
       "version_major": 2,
       "version_minor": 0
      },
      "text/plain": [
       "HBox(children=(Text(value='', description='App Name:', placeholder='such as m3sp'), Text(value='1.0.0', descri…"
      ]
     },
     "metadata": {},
     "output_type": "display_data"
    }
   ],
   "source": [
    "from IPython.display import display, HTML\n",
    "from ipywidgets import widgets\n",
    "from ui_element import connectParams\n",
    "\n",
    "appName = widgets.Text(description=\"App Name:\", value='', placeholder='such as m3sp')\n",
    "appVersion = widgets.Text(description=\"Version:\", value='1.0.0')\n",
    "appAuthor = widgets.Text(description=\"Author:\", value='', placeholder='Your Name')\n",
    "appHeader = widgets.HBox([appName, appVersion, appAuthor])\n",
    "display(appHeader)"
   ]
  },
  {
   "cell_type": "markdown",
   "metadata": {},
   "source": [
    "## 2. Panel Parameters"
   ]
  },
  {
   "cell_type": "code",
   "execution_count": 2,
   "metadata": {
    "scrolled": true
   },
   "outputs": [
    {
     "data": {
      "application/vnd.jupyter.widget-view+json": {
       "model_id": "9bc4f57c18454ad4ba62b961db3f689f",
       "version_major": 2,
       "version_minor": 0
      },
      "text/plain": [
       "VBox(children=(HBox(children=(Dropdown(description='Panel: ', index=2, options=(1, 2, 3, 4, 5, 6, 7, 8, 9), va…"
      ]
     },
     "metadata": {},
     "output_type": "display_data"
    }
   ],
   "source": [
    "panel = connectParams('Panel', paramType='panel', beginParam = 1, defaultParams=3)"
   ]
  },
  {
   "cell_type": "markdown",
   "metadata": {},
   "source": [
    "## 3. Properties "
   ]
  },
  {
   "cell_type": "code",
   "execution_count": 3,
   "metadata": {},
   "outputs": [
    {
     "data": {
      "application/vnd.jupyter.widget-view+json": {
       "model_id": "8e962bc1b68f4e2d85b91162cf4a95a6",
       "version_major": 2,
       "version_minor": 0
      },
      "text/plain": [
       "VBox(children=(HBox(children=(Dropdown(description='Properties: ', index=3, options=(0, 1, 2, 3, 4, 5, 6, 7, 8…"
      ]
     },
     "metadata": {},
     "output_type": "display_data"
    }
   ],
   "source": [
    "properties = connectParams('Properties', paramType='properties', beginParam=0,  defaultParams=3, maxParams = 50)"
   ]
  },
  {
   "cell_type": "markdown",
   "metadata": {},
   "source": [
    "## 4. Actions\n",
    "One Action is currently supported with the GUI Version(with Cancelation) "
   ]
  },
  {
   "cell_type": "code",
   "execution_count": 4,
   "metadata": {
    "scrolled": true
   },
   "outputs": [
    {
     "data": {
      "application/vnd.jupyter.widget-view+json": {
       "model_id": "189e85bb7ee743cc83f2e433c608b9c2",
       "version_major": 2,
       "version_minor": 0
      },
      "text/plain": [
       "VBox(children=(HBox(children=(Dropdown(description='Actions: ', index=1, options=(0, 1), value=1), Button(desc…"
      ]
     },
     "metadata": {},
     "output_type": "display_data"
    }
   ],
   "source": [
    "actions = connectParams('Actions', paramType='actions', beginParam=0, defaultParams=1, maxParams = 2)"
   ]
  },
  {
   "cell_type": "markdown",
   "metadata": {},
   "source": [
    "## 5. Scripts"
   ]
  },
  {
   "cell_type": "code",
   "execution_count": 5,
   "metadata": {},
   "outputs": [
    {
     "data": {
      "application/vnd.jupyter.widget-view+json": {
       "model_id": "91d3bcf3a25f4fcf99ea08f1e3758298",
       "version_major": 2,
       "version_minor": 0
      },
      "text/plain": [
       "HBox(children=(Checkbox(value=True, description='Test', disabled=True, indent=False), Checkbox(value=True, des…"
      ]
     },
     "metadata": {},
     "output_type": "display_data"
    }
   ],
   "source": [
    "testScriptOption = widgets.Checkbox(value=True, description='Test', disabled=True, indent=False)\n",
    "resolveScriptOption = widgets.Checkbox(value=True, description='Resolve', disabled=False, indent=False)\n",
    "pollScriptOption = widgets.Checkbox(value=False, description='Poll', disabled=False, indent=False)\n",
    "templateOption = widgets.Dropdown(\n",
    "                    options=[('Default', 'template'), ('Cylance', 'template3')],\n",
    "                    value='template',\n",
    "                    description='Base Code:',\n",
    "                )\n",
    "footer = widgets.HBox([testScriptOption, resolveScriptOption, pollScriptOption, templateOption])\n",
    "display(footer)"
   ]
  },
  {
   "cell_type": "code",
   "execution_count": null,
   "metadata": {},
   "outputs": [],
   "source": []
  },
  {
   "cell_type": "markdown",
   "metadata": {},
   "source": [
    "## 5. Final Step - Generate Configuration"
   ]
  },
  {
   "cell_type": "code",
   "execution_count": 6,
   "metadata": {},
   "outputs": [
    {
     "data": {
      "application/vnd.jupyter.widget-view+json": {
       "model_id": "d6aa05aff77248a088cdd2a96cea1d40",
       "version_major": 2,
       "version_minor": 0
      },
      "text/plain": [
       "Button(description='Generate App!', style=ButtonStyle())"
      ]
     },
     "metadata": {},
     "output_type": "display_data"
    }
   ],
   "source": [
    "import yaml\n",
    "from generator import generateApp \n",
    "\n",
    "global finalObj, firstTime\n",
    "firstTime = True\n",
    "finalObj = {}\n",
    "\n",
    "btn_generate = widgets.Button(description=\"Generate App!\")\n",
    "out = widgets.HTML(\n",
    "    value=\"\",\n",
    "    description='Results: ',\n",
    "    layout={'border': '1px solid black'}\n",
    ")\n",
    "\n",
    "def on_gen_button_clicked(b):\n",
    "    global finalObj, firstTime   \n",
    "    out.value = ''\n",
    "    result = ''\n",
    "    if finalObj != {}:\n",
    "        finalObj = {}\n",
    "    \n",
    "    if firstTime: \n",
    "        display(out)\n",
    "        firstTime = False\n",
    "    \n",
    "    # Verifying App Settings\n",
    "    if len(appName.value) != 0:\n",
    "        finalObj['name'] = appName.value\n",
    "    else: \n",
    "        out.value = \"Error: You should fill the App Name field! Halting..\"\n",
    "        return \n",
    "    \n",
    "    if len(appVersion.value) != 0:\n",
    "        finalObj['version'] = appVersion.value\n",
    "    else: \n",
    "        out.value = \"Error: You should fill the App Version field! Halting..\"\n",
    "        return \n",
    "    \n",
    "    if len(appAuthor.value) != 0:\n",
    "        finalObj['author'] = appAuthor.value\n",
    "        finalObj['testEnable'] = True\n",
    "    else: \n",
    "        out.value = \"Error: You should fill the Author field! Halting..\"\n",
    "        return\n",
    "    \n",
    "    # Verifying Panel Parameters\n",
    "    finalObj['panels'] = {}\n",
    "    finalObj['panels']['title'] = f\"{finalObj['name'].upper()} Connection\"\n",
    "    finalObj['panels']['description'] = f\"{finalObj['name'].upper()} Connection details\"\n",
    "    finalObj['panels']['fields'] = []\n",
    "    \n",
    "    if len(panel.panelParams) > 0:\n",
    "        i=1\n",
    "        for p in panel.panelParams:\n",
    "            if p.children[0].value == '':\n",
    "                out.value = f\"Error: Panel Parameter {i} field Name needs to be filled! Halting..\"\n",
    "                return\n",
    "            i+=1\n",
    "            if p.children[1].value:\n",
    "                finalObj['panels']['fields'].append({p.children[0].value: 'encrypted'})\n",
    "            else: \n",
    "                finalObj['panels']['fields'].append(p.children[0].value)\n",
    "                \n",
    "    # Verifying Properties Parameters          \n",
    "    finalObj['properties'] = []\n",
    "    if len(properties.panelParams) >0:\n",
    "        i=1\n",
    "        for p in properties.panelParams: \n",
    "            if p.children[0].value == '':\n",
    "                out.value = f\"Error: Properties Parameter {i} field Name needs to be filled! Halting..\"\n",
    "                return\n",
    "            i+=1\n",
    "            op1 = p.children[1].value\n",
    "            op2 = p.children[2].value\n",
    "            op3 = p.children[3].value\n",
    "            op4 = p.children[4].value\n",
    "            if not(op1 or op2 or op3 or op4):\n",
    "                finalObj['properties'].append(p.children[0].value)\n",
    "            else: \n",
    "                if op3 and op4: \n",
    "                    out.value = f\"Error: Cannot have List and type boolean fields enabled together! Halting..\"\n",
    "                    return\n",
    "                    \n",
    "                subObj = {}\n",
    "                \n",
    "                if op1: \n",
    "                    subObj['inventory'] = True\n",
    "                    subObj['asset_portal'] = True\n",
    "                \n",
    "                if op2: \n",
    "                    subObj['track_change'] = True\n",
    "                \n",
    "                if op3: \n",
    "                    subObj['list'] = True\n",
    "                \n",
    "                if op4: \n",
    "                    subObj['type'] = 'boolean'\n",
    "                    \n",
    "                obj = {p.children[0].value: subObj}\n",
    "                \n",
    "                finalObj['properties'].append(obj)\n",
    "                \n",
    "    # Scripts Section\n",
    "    finalObj['scripts'] = []\n",
    "    \n",
    "    if resolveScriptOption.value:\n",
    "        finalObj['scripts'].append({'Resolve': 'properties'})\n",
    "        \n",
    "    if testScriptOption.value:\n",
    "        finalObj['scripts'].append({'Test': {'test': True}})\n",
    "        \n",
    "    if pollScriptOption.value:\n",
    "        finalObj['scripts'].append({'Poll': {'discovery': True}})\n",
    "    \n",
    "    finalObj['actions'] = []\n",
    "            \n",
    "    if len(actions.panelParams)==1:\n",
    "        _action = actions.panelParams[0].children[0].children[0].value # main action name\n",
    "        _action_internal= '_'.join(_action.lower().split())\n",
    "        \n",
    "        _undoAction = actions.panelParams[0].children[0].children[1].value\n",
    "        \n",
    "        if _action == '':\n",
    "            out.value = f\"Error: Cannot have Action without Action Name.. Halting..\"\n",
    "            return\n",
    "            \n",
    "        finalObj['scripts'].append({_action: {'action': _action_internal}})\n",
    "        \n",
    "        if _undoAction!= '':\n",
    "            finalObj['scripts'].append({_undoAction: {'action': _action_internal, 'is_cancel': True}})\n",
    "        \n",
    "        _actionObj = {}\n",
    "        \n",
    "        _aoProps = {\n",
    "            'description': f\"{_action} Command\",\n",
    "            'ip_required': False,\n",
    "            'threshhold_percentage': 1,\n",
    "            'params': []\n",
    "        }\n",
    "        if actions.panelParams[0].children[1].children[0].children[0].value >0: \n",
    "            for i in range(actions.panelParams[0].children[1].children[0].children[0].value):\n",
    "                if actions.actParams.panelParams[i].value == '':\n",
    "                    out.value = f\"Error: Cannot have Action Param without Name.. Halting..\"\n",
    "                    return\n",
    "                _aoProps['params'].append(actions.actParams.panelParams[i].value)\n",
    "        \n",
    "        _actionObj[_action_internal] = _aoProps        \n",
    "        finalObj['actions'].append(_actionObj)\n",
    "            \n",
    "        \n",
    "    finalObj['logoFileName'] = 'logo.png' \n",
    "    finalObj['template'] = templateOption.value\n",
    "    \n",
    "    _appName_ = '_'.join(finalObj['name'].lower().split())\n",
    "    _fileName = f\"{_appName_}_{finalObj['version']}.yaml\"\n",
    "    out.value = f\"Success.. Writing Yaml file to {_fileName} and working on Generating your App Skeleton.\"\n",
    "    with open(_fileName, 'w') as file:\n",
    "        documents = yaml.safe_dump(finalObj, file, explicit_start = True)\n",
    "    generateApp(_fileName)\n",
    "    \n",
    "     \n",
    "\n",
    "btn_generate.on_click(on_gen_button_clicked)\n",
    "display(btn_generate)"
   ]
  },
  {
   "cell_type": "code",
   "execution_count": 7,
   "metadata": {},
   "outputs": [
    {
     "data": {
      "text/html": [
       "<script>\n",
       "code_show=true;\n",
       "function code_toggle() {if (code_show){ $('div.input').hide();} else { $('div.input').show();}\n",
       "code_show = !code_show}\n",
       "$( document ).ready(code_toggle);</script>\n",
       "<form action=\"javascript:code_toggle()\"><input type=\"submit\" value=\"Toggle Raw Code - On/Off\"></form>"
      ],
      "text/plain": [
       "<IPython.core.display.HTML object>"
      ]
     },
     "execution_count": 7,
     "metadata": {},
     "output_type": "execute_result"
    }
   ],
   "source": [
    "HTML('''<script>\n",
    "code_show=true;\n",
    "function code_toggle() {if (code_show){ $('div.input').hide();} else { $('div.input').show();}\n",
    "code_show = !code_show}\n",
    "$( document ).ready(code_toggle);</script>\n",
    "<form action=\"javascript:code_toggle()\"><input type=\"submit\" value=\"Toggle Raw Code - On/Off\"></form>''')"
   ]
  },
  {
   "cell_type": "code",
   "execution_count": null,
   "metadata": {},
   "outputs": [],
   "source": []
  }
 ],
 "metadata": {
  "kernelspec": {
   "display_name": "Python 3",
   "language": "python",
   "name": "python3"
  },
  "language_info": {
   "codemirror_mode": {
    "name": "ipython",
    "version": 3
   },
   "file_extension": ".py",
   "mimetype": "text/x-python",
   "name": "python",
   "nbconvert_exporter": "python",
   "pygments_lexer": "ipython3",
   "version": "3.7.3"
  }
 },
 "nbformat": 4,
 "nbformat_minor": 2
}
