{
 "cells": [
  {
   "cell_type": "markdown",
   "metadata": {},
   "source": [
    "### Table of Contents <a class=\"anchor\" id=\"mainMenu\"></a>\n",
    "\n",
    "* [Chapter 1 - Introduction](#chapter1)\n",
    "    * [1.1 - Logging Info, getting Help & Using Magics](#section_1_1)\n",
    "    * [1.2 - Using ConnectAppGen](#section_1_2)\n",
    "    * [1.3 - Packaging your ConnectApp](#section_1_3)\n",
    "        \n",
    "* [Chapter 2 - API Test Script](#chapter2)\n",
    "    * [2.1. Preparing your Input Parameters](#section_2_1)\n",
    "    * [2.2. Testing your API](#section_2_2)\n",
    "    * [2.3. Final Test Script](#section_2_3)\n",
    "\n",
    "* [Chapter 3 - API Resolve Script](#chapter3)\n",
    "    * [3.1. Preparing your Input Parameters](#section_3_1)\n",
    "    * [3.2. Static Resolve Script](#section_3_2)\n",
    "    * [3.3. Resolving Parameters from your API](#section_3_3)\n",
    "    * [3.4. Handling Exceptions](#section_3_4)\n",
    "    * [3.5. Final Resolve Script](#section_3_5)\n",
    "\n",
    "* [Chapter 4 - Action API Script](#chapter4)\n",
    "    * [4.1. Preparing your Input Parameters](#section_4_1)\n",
    "    * [4.2. Pushing Information to your API](#section_4_2)\n",
    "    * [4.3. Final Action Script](#section_4_3)\n",
    "* [Appendix A - Commands on Forescout Platform](#appendixA)"
   ]
  },
  {
   "cell_type": "markdown",
   "metadata": {},
   "source": [
    "## Chapter 1 - Introduction <a class=\"anchor\" id=\"chapter1\"></a>"
   ]
  },
  {
   "cell_type": "markdown",
   "metadata": {},
   "source": [
    "### 1.1. Logging Info, getting Help & Using Magics<a class=\"anchor\" id=\"section_1_1\"></a>\n",
    "#### Set logging to INFO to see what will be logged to python_logs afterwards (during Development)"
   ]
  },
  {
   "cell_type": "code",
   "execution_count": null,
   "metadata": {},
   "outputs": [],
   "source": [
    "import logging\n",
    "\n",
    "# by default: >= wraning (incl. error / critical) are showed. \n",
    "logging.debug('debug message')\n",
    "logging.info('info message')\n",
    "logging.warning('warn message')\n",
    "logging.error('error message')\n",
    "logging.critical('critical message')"
   ]
  },
  {
   "cell_type": "code",
   "execution_count": null,
   "metadata": {},
   "outputs": [],
   "source": [
    "logging.basicConfig()\n",
    "logger = logging.getLogger()\n",
    "#logger.setLevel(logging.INFO)\n",
    "logger.setLevel(logging.DEBUG) # similar to fstool connect_module debug 5 10h"
   ]
  },
  {
   "cell_type": "code",
   "execution_count": null,
   "metadata": {},
   "outputs": [],
   "source": [
    "# given logger level is DEBUG - we are going to see all messages logged from : Debug, info, wan / error / critical. \n",
    "logging.debug('debug message')\n",
    "logging.info('info message')\n",
    "logging.warning('warn message')\n",
    "logging.error('error message')\n",
    "logging.critical('critical message')"
   ]
  },
  {
   "cell_type": "code",
   "execution_count": null,
   "metadata": {},
   "outputs": [],
   "source": [
    "# Getting Module methods\n",
    "\n",
    "# import module\n",
    "import urllib\n",
    "\n",
    "# use dir(<module_name>)\n",
    "dir(urllib)"
   ]
  },
  {
   "cell_type": "code",
   "execution_count": null,
   "metadata": {},
   "outputs": [],
   "source": [
    "# Get methods of request sub-mobulde \n",
    "dir(urllib.request)"
   ]
  },
  {
   "cell_type": "code",
   "execution_count": null,
   "metadata": {},
   "outputs": [],
   "source": [
    "# Get version of urllib.request sub-module\n",
    "urllib.request.__version__"
   ]
  },
  {
   "cell_type": "code",
   "execution_count": null,
   "metadata": {},
   "outputs": [],
   "source": [
    "# Getting Help! - using ? , ??\n",
    "urllib.request.Request??"
   ]
  },
  {
   "cell_type": "code",
   "execution_count": null,
   "metadata": {},
   "outputs": [],
   "source": [
    "# Getting help via help command\n",
    "help(urllib.request.urlopen)"
   ]
  },
  {
   "cell_type": "markdown",
   "metadata": {},
   "source": [
    "More information about urllib.request: https://docs.python.org/3/library/urllib.request.html "
   ]
  },
  {
   "cell_type": "markdown",
   "metadata": {},
   "source": [
    "### Magics \n",
    "Let's see some Magic: \n",
    "- Magics are specific to and provided by the IPython kernel. \n",
    "https://ipython.readthedocs.io/en/stable/interactive/magics.html"
   ]
  },
  {
   "cell_type": "code",
   "execution_count": null,
   "metadata": {},
   "outputs": [],
   "source": [
    "#%%writefile wfile.py\n",
    "print(\"Hello World!\")"
   ]
  },
  {
   "cell_type": "code",
   "execution_count": null,
   "metadata": {},
   "outputs": [],
   "source": [
    "! ls wfile.py"
   ]
  },
  {
   "cell_type": "code",
   "execution_count": null,
   "metadata": {},
   "outputs": [],
   "source": [
    "! python3 wfile.py"
   ]
  },
  {
   "cell_type": "code",
   "execution_count": null,
   "metadata": {},
   "outputs": [],
   "source": [
    "! rm wfile.py"
   ]
  },
  {
   "cell_type": "markdown",
   "metadata": {},
   "source": [
    "[Back to Table of Contents](#mainMenu)"
   ]
  },
  {
   "cell_type": "markdown",
   "metadata": {},
   "source": [
    "### 1.2. Using connectAppGen <a class=\"anchor\" id=\"section_1_2\"></a>"
   ]
  },
  {
   "cell_type": "code",
   "execution_count": null,
   "metadata": {},
   "outputs": [],
   "source": [
    "yamlInputFile = 'm3sp.yaml'"
   ]
  },
  {
   "cell_type": "code",
   "execution_count": null,
   "metadata": {},
   "outputs": [],
   "source": [
    "! cat {yamlInputFile}"
   ]
  },
  {
   "cell_type": "code",
   "execution_count": null,
   "metadata": {},
   "outputs": [],
   "source": [
    "! python3 generator.py {yamlInputFile}"
   ]
  },
  {
   "cell_type": "markdown",
   "metadata": {},
   "source": [
    "[Back to Table of Contents](#mainMenu)"
   ]
  },
  {
   "cell_type": "markdown",
   "metadata": {},
   "source": [
    "### 1.3. Packaging your ConnectApp <a class=\"anchor\" id=\"section_1_3\"></a>"
   ]
  },
  {
   "cell_type": "code",
   "execution_count": null,
   "metadata": {},
   "outputs": [],
   "source": [
    "folderName = 'm3sp_1.0.0'\n",
    "testScript = f'{folderName}/m3sp_test.py'\n",
    "resolveScript = f'{folderName}/m3sp_resolve.py'\n",
    "actionScript = f'{folderName}/m3sp_send_data.py'\n",
    "\n",
    "! ls {folderName}"
   ]
  },
  {
   "cell_type": "code",
   "execution_count": null,
   "metadata": {},
   "outputs": [],
   "source": [
    "#! cat {testScript}\n",
    "#! cat {resolveScript}\n",
    "#! cat {actionScrtip}"
   ]
  },
  {
   "cell_type": "code",
   "execution_count": null,
   "metadata": {},
   "outputs": [],
   "source": [
    "# Package the connectApp by Zipping the connectApp folderName \n",
    "\n",
    "! python3 -m zipfile -c {folderName}.zip {folderName}/"
   ]
  },
  {
   "cell_type": "code",
   "execution_count": null,
   "metadata": {},
   "outputs": [],
   "source": [
    "! ls -l {folderName}.zip"
   ]
  },
  {
   "cell_type": "markdown",
   "metadata": {},
   "source": [
    "[Back to Table of Contents](#mainMenu)"
   ]
  },
  {
   "cell_type": "markdown",
   "metadata": {},
   "source": [
    "### 2.  API Test Script <a class=\"anchor\" id=\"chapter2\"></a>"
   ]
  },
  {
   "cell_type": "markdown",
   "metadata": {},
   "source": [
    "## 2.1. Preparing your Input Parameters <a class=\"anchor\" id=\"section_2_1\"></a>"
   ]
  },
  {
   "cell_type": "code",
   "execution_count": null,
   "metadata": {},
   "outputs": [],
   "source": [
    "! cat {testScript}"
   ]
  },
  {
   "cell_type": "code",
   "execution_count": null,
   "metadata": {},
   "outputs": [],
   "source": [
    "params = {}\n",
    "# Panel Params\n",
    "params['connect_m3sp_url'] = 'http://10.0.1.3:3000'\n",
    "params['connect_m3sp_username'] = 'forescout'\n",
    "params['connect_m3sp_passsword'] = '4Scout123'\n",
    "\n",
    "m3sp_to_ct_props_map = {\n",
    "     \"department\" : \"connect_m3sp_department\", \n",
    "     \"description\" : \"connect_m3sp_description\"  \n",
    "}"
   ]
  },
  {
   "cell_type": "code",
   "execution_count": null,
   "metadata": {},
   "outputs": [],
   "source": [
    "params"
   ]
  },
  {
   "cell_type": "code",
   "execution_count": null,
   "metadata": {},
   "outputs": [],
   "source": [
    "params['connect_m3sp_url']"
   ]
  },
  {
   "cell_type": "code",
   "execution_count": null,
   "metadata": {},
   "outputs": [],
   "source": [
    "response = {}\n",
    "\n",
    "properties = {}\n",
    "\n",
    "properties[m3sp_to_ct_props_map['department']] = 'HR'\n",
    "properties[m3sp_to_ct_props_map['description']] = 'Human Resources'\n",
    "response['properties'] = properties"
   ]
  },
  {
   "cell_type": "code",
   "execution_count": null,
   "metadata": {},
   "outputs": [],
   "source": [
    "response"
   ]
  },
  {
   "cell_type": "markdown",
   "metadata": {},
   "source": [
    "[Back to Table of Contents](#mainMenu)"
   ]
  },
  {
   "cell_type": "markdown",
   "metadata": {},
   "source": [
    "## 2.2. Testing your API <a class=\"anchor\" id=\"section_2_2\"></a>"
   ]
  },
  {
   "cell_type": "code",
   "execution_count": null,
   "metadata": {},
   "outputs": [],
   "source": [
    "import urllib.request\n",
    "import logging"
   ]
  },
  {
   "cell_type": "code",
   "execution_count": null,
   "metadata": {},
   "outputs": [],
   "source": [
    "# Server configuration fields will be available in the 'params' dictionary.\n",
    "logging.info('===>Starting m3sp Test Script')\n",
    "\n",
    "base_url = params['connect_m3sp_url']\n",
    "\n",
    "headers = {\n",
    "    'Content-Type': \"application/json\",\n",
    "    'charset': 'utf-8',\n",
    "    'User-Agent': \"FSCT/1.16.2020\"\n",
    "    }"
   ]
  },
  {
   "cell_type": "code",
   "execution_count": null,
   "metadata": {},
   "outputs": [],
   "source": [
    "request = urllib.request.Request(base_url, headers=headers)\n",
    "resp = urllib.request.urlopen(request)"
   ]
  },
  {
   "cell_type": "code",
   "execution_count": null,
   "metadata": {},
   "outputs": [],
   "source": [
    "# What do you think is the type of response? \n",
    "\n",
    "type(resp)"
   ]
  },
  {
   "cell_type": "code",
   "execution_count": null,
   "metadata": {},
   "outputs": [],
   "source": [
    "resp.getcode()"
   ]
  },
  {
   "cell_type": "code",
   "execution_count": null,
   "metadata": {},
   "outputs": [],
   "source": [
    "resp.getheaders()"
   ]
  },
  {
   "cell_type": "code",
   "execution_count": null,
   "metadata": {},
   "outputs": [],
   "source": [
    "resp.read()"
   ]
  },
  {
   "cell_type": "code",
   "execution_count": null,
   "metadata": {},
   "outputs": [],
   "source": [
    "resp.msg"
   ]
  },
  {
   "cell_type": "code",
   "execution_count": null,
   "metadata": {},
   "outputs": [],
   "source": [
    "response = {}"
   ]
  },
  {
   "cell_type": "code",
   "execution_count": null,
   "metadata": {},
   "outputs": [],
   "source": [
    "if resp.getcode() == 200:\n",
    "    response['succeeded'] = True\n",
    "    response['result_msg'] = 'Successfully connected.'\n",
    "else:\n",
    "    response['succeeded'] = False\n",
    "    response['result_msg'] = 'Could not connect to m3sp Server'\n",
    "\n",
    "logging.info('===>Ending m3sp Test Script')"
   ]
  },
  {
   "cell_type": "code",
   "execution_count": null,
   "metadata": {},
   "outputs": [],
   "source": [
    "response"
   ]
  },
  {
   "cell_type": "markdown",
   "metadata": {},
   "source": [
    "## 2.3. Consolidated Test Script <a class=\"anchor\" id=\"section_2_3\"></a>"
   ]
  },
  {
   "cell_type": "code",
   "execution_count": null,
   "metadata": {},
   "outputs": [],
   "source": [
    "#%%writefile {testScript}\n",
    "\n",
    "import urllib.request\n",
    "import logging\n",
    "\n",
    "logging.info('===>Starting m3sp Test Script')\n",
    "\n",
    "base_url = params['connect_m3sp_url']\n",
    "\n",
    "headers = {\n",
    "    'Content-Type': \"application/json\",\n",
    "    'charset': 'utf-8',\n",
    "    'User-Agent': \"FSCT/1.16.2020\"\n",
    "    }\n",
    "\n",
    "request = urllib.request.Request(base_url, headers=headers)\n",
    "resp = urllib.request.urlopen(request)\n",
    "\n",
    "msg_resp = str(resp.read())\n",
    "logging.info(f'===>Received Message: {msg_resp}')\n",
    "\n",
    "# Return the 'response' dictionary, must have a 'succeded' field.\n",
    "response = {}\n",
    "\n",
    "if resp.getcode() == 200:\n",
    "    response['succeeded'] = True\n",
    "    response['result_msg'] = 'Successfully connected.'\n",
    "else:\n",
    "    response['succeeded'] = False\n",
    "    response['result_msg'] = 'Could not connect to m3sp Server'\n",
    "\n",
    "logging.info('===>Ending m3sp Test Script')"
   ]
  },
  {
   "cell_type": "code",
   "execution_count": null,
   "metadata": {},
   "outputs": [],
   "source": [
    "response"
   ]
  },
  {
   "cell_type": "code",
   "execution_count": null,
   "metadata": {},
   "outputs": [],
   "source": [
    "# Now build the first Distribution of the m3sp App - and use Test in Forescout ConnectApp  \n",
    "! python3 -m zipfile -c {folderName}.zip {folderName}/"
   ]
  },
  {
   "cell_type": "markdown",
   "metadata": {},
   "source": [
    "[Back to Table of Contents](#mainMenu)"
   ]
  },
  {
   "cell_type": "markdown",
   "metadata": {},
   "source": [
    "## Chapter 3 - API Resolve Script <a class=\"anchor\" id=\"chapter3\"></a>"
   ]
  },
  {
   "cell_type": "markdown",
   "metadata": {},
   "source": [
    "## 3.1. Preparing your Input Parameters <a class=\"anchor\" id=\"section_3_1\"></a>"
   ]
  },
  {
   "cell_type": "code",
   "execution_count": null,
   "metadata": {},
   "outputs": [],
   "source": [
    "params = {}\n",
    "# Panel Params\n",
    "params['connect_m3sp_url'] = 'http://10.0.1.3:3000'\n",
    "params['connect_m3sp_username'] = 'forescout'\n",
    "params['connect_m3sp_password'] = '4Scout123'\n",
    "params['mac'] = '11aa33bb55cc'\n",
    "\n",
    "m3sp_to_ct_props_map = {\n",
    "     \"department\" : \"connect_m3sp_department\", \n",
    "     \"description\" : \"connect_m3sp_description\"  \n",
    "}"
   ]
  },
  {
   "cell_type": "markdown",
   "metadata": {},
   "source": [
    "[Back to Table of Contents](#mainMenu)"
   ]
  },
  {
   "cell_type": "markdown",
   "metadata": {},
   "source": [
    "## 3.2. Static Resolve Script <a class=\"anchor\" id=\"section_3_2\"></a>"
   ]
  },
  {
   "cell_type": "code",
   "execution_count": null,
   "metadata": {},
   "outputs": [],
   "source": [
    "params"
   ]
  },
  {
   "cell_type": "code",
   "execution_count": null,
   "metadata": {},
   "outputs": [],
   "source": [
    "'mac' in params"
   ]
  },
  {
   "cell_type": "code",
   "execution_count": null,
   "metadata": {},
   "outputs": [],
   "source": [
    "#%%writefile {resolveScript}\n",
    "import logging\n",
    "\n",
    "logging.info(\"=======>>>>>Starting sample resolve Script.\")\n",
    "\n",
    "m3sp_to_ct_props_map = {\n",
    "    \"department\": \"connect_m3sp_department\",\n",
    "    \"description\": \"connect_m3sp_description\"\n",
    "}\n",
    "\n",
    "if \"mac\" in params:\n",
    "    logging.info(\"=======>>>>>Resolving mac address: \" + params[\"mac\"])\n",
    "\n",
    "response = {}\n",
    "properties = {}\n",
    "\n",
    "properties[m3sp_to_ct_props_map['department']] = \"Marketing\"\n",
    "properties[m3sp_to_ct_props_map['description']] = f'Asset with mac:{params[\"mac\"]} in Marketing.'\n",
    "\n",
    "response[\"properties\"] = properties\n",
    "\n",
    "logging.info(\"=======>>>>> m3sp properties returned: {}\".format(properties))"
   ]
  },
  {
   "cell_type": "code",
   "execution_count": null,
   "metadata": {},
   "outputs": [],
   "source": [
    "response"
   ]
  },
  {
   "cell_type": "code",
   "execution_count": null,
   "metadata": {},
   "outputs": [],
   "source": [
    "# Now build the second Distribution of the m3sp App - and use properties Resolve via Forescout Policy Engine\n",
    "! python3 -m zipfile -c {folderName}.zip {folderName}/"
   ]
  },
  {
   "cell_type": "markdown",
   "metadata": {},
   "source": [
    "[Back to Table of Contents](#mainMenu)"
   ]
  },
  {
   "cell_type": "markdown",
   "metadata": {},
   "source": [
    "## 3.3. Resolving Parameters from your API <a class=\"anchor\" id=\"section_3_3\"></a>"
   ]
  },
  {
   "cell_type": "code",
   "execution_count": null,
   "metadata": {},
   "outputs": [],
   "source": [
    "import urllib.request\n",
    "import logging\n",
    "import json "
   ]
  },
  {
   "cell_type": "code",
   "execution_count": null,
   "metadata": {},
   "outputs": [],
   "source": [
    "logging.info(\"=======>>>>>Starting Live resolve Script.\")\n",
    "\n",
    "base_url = params['connect_m3sp_url']\n",
    "\n",
    "payload = {\n",
    "    'username' : params['connect_m3sp_username'],\n",
    "    'password' : params['connect_m3sp_password']\n",
    "    }\n",
    "\n",
    "headers = {\n",
    "    'Content-Type': \"application/json\",\n",
    "    'charset': 'utf-8',\n",
    "    'User-Agent': \"FSCT/1.16.2020\"\n",
    "    }"
   ]
  },
  {
   "cell_type": "code",
   "execution_count": null,
   "metadata": {},
   "outputs": [],
   "source": [
    "# Original Payload is a dictionary - we need to Serialize it to bytes-string\n",
    "payload"
   ]
  },
  {
   "cell_type": "code",
   "execution_count": null,
   "metadata": {},
   "outputs": [],
   "source": [
    "# Serialize payload Object to a JSON formatted ``str``.\n",
    "# using json.dumps to convert dict to 'str' and json.loads to convert 'str' back to dict.\n",
    "json.dumps(payload)"
   ]
  },
  {
   "cell_type": "code",
   "execution_count": null,
   "metadata": {},
   "outputs": [],
   "source": [
    "# Convert String to bytes-string - with utf-8 encoding.\n",
    "bytes(json.dumps(payload), encoding=\"utf-8\")"
   ]
  },
  {
   "cell_type": "code",
   "execution_count": null,
   "metadata": {},
   "outputs": [],
   "source": [
    "request = urllib.request.Request(base_url + '/api/authenticate', headers=headers, \\\n",
    "                                 data=bytes(json.dumps(payload), encoding=\"utf-8\"))"
   ]
  },
  {
   "cell_type": "code",
   "execution_count": null,
   "metadata": {},
   "outputs": [],
   "source": [
    "resp = urllib.request.urlopen(request)"
   ]
  },
  {
   "cell_type": "code",
   "execution_count": null,
   "metadata": {},
   "outputs": [],
   "source": [
    "resp.getcode()"
   ]
  },
  {
   "cell_type": "code",
   "execution_count": null,
   "metadata": {},
   "outputs": [],
   "source": [
    "bResponse = resp.read()\n",
    "bResponse"
   ]
  },
  {
   "cell_type": "code",
   "execution_count": null,
   "metadata": {},
   "outputs": [],
   "source": [
    "type(bResponse)"
   ]
  },
  {
   "cell_type": "code",
   "execution_count": null,
   "metadata": {},
   "outputs": [],
   "source": [
    "# json.loads: Deserialize a string or bytes-string containing a serialized JSON document, to a Python object.\n",
    "json.loads(bResponse)"
   ]
  },
  {
   "cell_type": "code",
   "execution_count": null,
   "metadata": {},
   "outputs": [],
   "source": [
    "jwt_token = json.loads(bResponse)['token']\n",
    "jwt_token"
   ]
  },
  {
   "cell_type": "code",
   "execution_count": null,
   "metadata": {},
   "outputs": [],
   "source": [
    "# Device headers with the authorization token\n",
    "device_headers = {\n",
    "    'Content-Type': \"application/json\",\n",
    "    'charset': 'utf-8',\n",
    "    'User-Agent': \"FSCT/1.16.2020\",\n",
    "    'Authorization': 'Bearer ' + str(jwt_token)\n",
    "    }"
   ]
  },
  {
   "cell_type": "code",
   "execution_count": null,
   "metadata": {},
   "outputs": [],
   "source": [
    "params"
   ]
  },
  {
   "cell_type": "code",
   "execution_count": null,
   "metadata": {},
   "outputs": [],
   "source": [
    "'mac' in params"
   ]
  },
  {
   "cell_type": "code",
   "execution_count": null,
   "metadata": {},
   "outputs": [],
   "source": [
    "mac_addr = params['mac']\n",
    "mac_addr"
   ]
  },
  {
   "cell_type": "code",
   "execution_count": null,
   "metadata": {},
   "outputs": [],
   "source": [
    "request = urllib.request.Request(base_url + '/api/getdevice/' + mac_addr, headers=device_headers)"
   ]
  },
  {
   "cell_type": "code",
   "execution_count": null,
   "metadata": {},
   "outputs": [],
   "source": [
    "request.full_url"
   ]
  },
  {
   "cell_type": "code",
   "execution_count": null,
   "metadata": {},
   "outputs": [],
   "source": [
    "request.headers"
   ]
  },
  {
   "cell_type": "code",
   "execution_count": null,
   "metadata": {},
   "outputs": [],
   "source": [
    "resp = urllib.request.urlopen(request)"
   ]
  },
  {
   "cell_type": "code",
   "execution_count": null,
   "metadata": {},
   "outputs": [],
   "source": [
    "resp_data = resp.read()"
   ]
  },
  {
   "cell_type": "code",
   "execution_count": null,
   "metadata": {},
   "outputs": [],
   "source": [
    "resp_data"
   ]
  },
  {
   "cell_type": "code",
   "execution_count": null,
   "metadata": {},
   "outputs": [],
   "source": [
    "resp_dict = json.loads(resp_data)\n",
    "resp_dict[0]"
   ]
  },
  {
   "cell_type": "code",
   "execution_count": null,
   "metadata": {},
   "outputs": [],
   "source": [
    "resp_dict[0]['department']"
   ]
  },
  {
   "cell_type": "code",
   "execution_count": null,
   "metadata": {},
   "outputs": [],
   "source": [
    "for k, v in resp_dict[0].items():\n",
    "    if k in m3sp_to_ct_props_map:\n",
    "        properties[m3sp_to_ct_props_map[k]] = v"
   ]
  },
  {
   "cell_type": "code",
   "execution_count": null,
   "metadata": {},
   "outputs": [],
   "source": [
    "properties"
   ]
  },
  {
   "cell_type": "code",
   "execution_count": null,
   "metadata": {},
   "outputs": [],
   "source": [
    "response = {}\n",
    "response['properties'] = properties"
   ]
  },
  {
   "cell_type": "code",
   "execution_count": null,
   "metadata": {},
   "outputs": [],
   "source": [
    "# How to tell Forescout Platform that an Error has occured? \n",
    "\n",
    "response[\"error\"] = \"=======>>>>>m3sp: No mac address to query.\"\n",
    "\n",
    "# always good practice to log the errors too.. \n",
    "logging.info(response[\"error\"])"
   ]
  },
  {
   "cell_type": "markdown",
   "metadata": {},
   "source": [
    "[Back to Table of Contents](#mainMenu)"
   ]
  },
  {
   "cell_type": "markdown",
   "metadata": {},
   "source": [
    "## 3.4. Handling Exceptions <a class=\"anchor\" id=\"section_3_4\"></a>"
   ]
  },
  {
   "cell_type": "code",
   "execution_count": null,
   "metadata": {},
   "outputs": [],
   "source": [
    "# How to handle Exceptions?\n",
    "invalid_request = 1/0"
   ]
  },
  {
   "cell_type": "code",
   "execution_count": null,
   "metadata": {},
   "outputs": [],
   "source": [
    "# if you know the Error Types - implement exception handling for \"ZeroDivisionError\"\n",
    "try:\n",
    "    invalid_request = 1/0\n",
    "except ZeroDivisionError as z: \n",
    "    print(f\"{z}: Exception was received!\\n\")"
   ]
  },
  {
   "cell_type": "code",
   "execution_count": null,
   "metadata": {},
   "outputs": [],
   "source": [
    "# or use generic Error Handling - at least to be graceful handling \n",
    "try:\n",
    "    invalid_request = 1/0\n",
    "except: \n",
    "    print(f\"Something went wrong!\")"
   ]
  },
  {
   "cell_type": "code",
   "execution_count": null,
   "metadata": {},
   "outputs": [],
   "source": [
    "# https://docs.python.org/3/library/urllib.error.html\n",
    "\n",
    "from urllib.request import HTTPError, URLError\n",
    "\n",
    "try:\n",
    "    request = urllib.request.Request(base_url + '/api/authenticate123', headers=headers, \\\n",
    "                                 data=bytes(json.dumps(payload), encoding=\"utf-8\"))\n",
    "    resp = urllib.request.urlopen(request)\n",
    "    \n",
    "except HTTPError as e: \n",
    "    print(f\"HTTPError was received!\\n{e}\")"
   ]
  },
  {
   "cell_type": "code",
   "execution_count": null,
   "metadata": {},
   "outputs": [],
   "source": [
    "# Handling Multiple types of exceptions: \n",
    "\n",
    "from urllib.request import HTTPError, URLError\n",
    "try:\n",
    "    request = urllib.request.Request(base_url + '/api/authenticate123', headers=headers, \\\n",
    "                                 data=bytes(json.dumps(payload), encoding=\"utf-8\"))\n",
    "    resp = urllib.request.urlopen(request)\n",
    "    \n",
    "except HTTPError as e: \n",
    "    print(f\"HTTPError was received!\\n{e}\")\n",
    "    \n",
    "except URLError as e: \n",
    "    print(f\"URLError was received!\\n{e}\")\n",
    "\n",
    "except Exception as e:\n",
    "    print(f\"General Exception happened!\\n{e}\")"
   ]
  },
  {
   "cell_type": "markdown",
   "metadata": {},
   "source": [
    "[Back to Table of Contents](#mainMenu)"
   ]
  },
  {
   "cell_type": "markdown",
   "metadata": {},
   "source": [
    "## 3.5. Final Resolve Script <a class=\"anchor\" id=\"section_3_5\"></a>"
   ]
  },
  {
   "cell_type": "code",
   "execution_count": null,
   "metadata": {},
   "outputs": [],
   "source": [
    "#%%writefile {resolveScript}\n",
    "\n",
    "import urllib.request\n",
    "import urllib.error \n",
    "import logging\n",
    "import json\n",
    "\n",
    "logging.info(\"=======>>>>>Starting m3sp resolve Script.\")\n",
    "\n",
    "m3sp_to_ct_props_map = {\n",
    "    \"department\": \"connect_m3sp_department\",\n",
    "    \"description\": \"connect_m3sp_description\"\n",
    "}\n",
    "\n",
    "base_url = params['connect_m3sp_url']\n",
    "\n",
    "payload = {\n",
    "    'username' : params['connect_m3sp_username'],\n",
    "    'password' : params['connect_m3sp_password']\n",
    "    }\n",
    "\n",
    "headers = {\n",
    "    'Content-Type': \"application/json\",\n",
    "    'charset': 'utf-8',\n",
    "    'User-Agent': \"FSCT/1.16.2020\"\n",
    "    }\n",
    "\n",
    "# Authenticate to get the Web Token\n",
    "try:\n",
    "    request = urllib.request.Request(base_url + '/api/authenticate', headers=headers, \\\n",
    "                                     data=bytes(json.dumps(payload), encoding=\"utf-8\"))\n",
    "    resp = urllib.request.urlopen(request)\n",
    "    jwt_token = json.loads(resp.read())['token']\n",
    "    logging.info('=======>>>>>m3sp: Recieved Token: ' + jwt_token)\n",
    "except:\n",
    "    logging.info('=======>>>>>m3sp: ERROR Authenticating to Server!')\n",
    "    \n",
    "# Device headers with the authorization token\n",
    "device_headers = {\n",
    "    'Content-Type': \"application/json\",\n",
    "    'charset': 'utf-8',\n",
    "    'User-Agent': \"FSCT/1.16.2020\",\n",
    "    'Authorization': 'Bearer ' + str(jwt_token)\n",
    "    }\n",
    "\n",
    "# FS will provide a params{} dictionary with the dependent properties you defined in 'properties.conf' \n",
    "# for each of your App's custom properties.\n",
    "logging.info(\"=======>>>>>m3sp: parameters supplied by CT: {}\".format(params))\n",
    "\n",
    "# Get info on the passed mac address from server\n",
    "if \"mac\" in params:\n",
    "    mac_addr = params[\"mac\"]\n",
    "    response = {}\n",
    "    properties = {}\n",
    "    logging.info(\"=======>>>>>m3sp: Resolving mac address: \" + mac_addr)\n",
    "    # Get device information\n",
    "    try:\n",
    "        request = urllib.request.Request(base_url + '/api/getdevice/' + mac_addr, headers=device_headers)\n",
    "        resp = urllib.request.urlopen(request)\n",
    "        request_response = json.loads(resp.read())\n",
    "        if request_response:\n",
    "            return_values = request_response[0]\n",
    "            for key, value in return_values.items():\n",
    "                if key in m3sp_to_ct_props_map:\n",
    "                    properties[m3sp_to_ct_props_map[key]] = value\n",
    "    except:\n",
    "        response[\"error\"] = \"=======>>>>>m3sp: Error resolving mac address: \" + mac_addr\n",
    "        logging.info(response[\"error\"])\n",
    "\n",
    "    # All responses from scripts must contain the JSON object 'response'.\n",
    "    response[\"properties\"] = properties\n",
    "    logging.info(\"=======>>>>>m3sp: response returned: {}\".format(response))\n",
    "\n",
    "else:\n",
    "    response[\"error\"] = \"=======>>>>>m3sp: No mac address to query.\"\n",
    "    logging.info(response[\"error\"])\n"
   ]
  },
  {
   "cell_type": "code",
   "execution_count": null,
   "metadata": {},
   "outputs": [],
   "source": [
    "# Now build the third Distribution of the m3sp App - and you will get Live properties updates \n",
    "! python3 -m zipfile -c {folderName}.zip {folderName}/"
   ]
  },
  {
   "cell_type": "markdown",
   "metadata": {},
   "source": [
    "[Back to Table of Contents](#mainMenu)"
   ]
  },
  {
   "cell_type": "markdown",
   "metadata": {},
   "source": [
    "## Chapter 4 - Action API Script <a class=\"anchor\" id=\"chapter4\"></a>"
   ]
  },
  {
   "cell_type": "markdown",
   "metadata": {},
   "source": [
    "## 4.1. Preparing your Input Parameter <a class=\"anchor\" id=\"section_4_1\"></a>"
   ]
  },
  {
   "cell_type": "code",
   "execution_count": null,
   "metadata": {},
   "outputs": [],
   "source": [
    "params = {}\n",
    "# Panel Params\n",
    "params['connect_m3sp_url'] = 'http://10.0.1.3:3000'\n",
    "params['connect_m3sp_username'] = 'forescout'\n",
    "params['connect_m3sp_password'] = '4Scout123'\n",
    "\n",
    "m3sp_to_ct_props_map = {\n",
    "     \"department\" : \"connect_m3sp_department\", \n",
    "     \"description\" : \"connect_m3sp_description\"  \n",
    "}\n",
    "\n",
    "# Action Params\n",
    "params['connect_m3sp_malware_name'] = 'malware.py'\n",
    "params['connect_m3sp_malware_filetype'] = 'Python'\n",
    "\n",
    "# Add the simulated input for resolving properties for this mac-address\n",
    "params['mac'] = '11aa33bb55cc'"
   ]
  },
  {
   "cell_type": "markdown",
   "metadata": {},
   "source": [
    "[Back to Table of Contents](#mainMenu)"
   ]
  },
  {
   "cell_type": "markdown",
   "metadata": {},
   "source": [
    "## 4.2. Pushing Information to your API <a class=\"anchor\" id=\"section_4_2\"></a>"
   ]
  },
  {
   "cell_type": "code",
   "execution_count": null,
   "metadata": {},
   "outputs": [],
   "source": [
    "import urllib.request, urllib.error\n",
    "import logging\n",
    "import json"
   ]
  },
  {
   "cell_type": "code",
   "execution_count": null,
   "metadata": {},
   "outputs": [],
   "source": [
    "logging.info(\"=======>>>>>Starting m3sp action Script.\")\n",
    "\n",
    "# CT will provide a params{} dictionary with the dependent properties you defined in 'properties.conf' for each of your App's custom properties.\n",
    "logging.info(\"=======>>>>>m3sp: parameters supplied by CT: {}\".format(params))"
   ]
  },
  {
   "cell_type": "code",
   "execution_count": null,
   "metadata": {},
   "outputs": [],
   "source": [
    "base_url = params['connect_m3sp_url']\n",
    "\n",
    "payload = {\n",
    "    'username' : params['connect_m3sp_username'],\n",
    "    'password' : params['connect_m3sp_password']\n",
    "    }\n",
    "\n",
    "headers = {\n",
    "    'Content-Type': \"application/json\",\n",
    "    'charset': 'utf-8',\n",
    "    'User-Agent': \"FSCT/1.16.2020\"\n",
    "    }\n",
    "\n",
    "# Authenticate\n",
    "try:\n",
    "    request = urllib.request.Request(base_url + '/api/authenticate', headers=headers, data=bytes(json.dumps(payload), encoding=\"utf-8\"))\n",
    "    resp = urllib.request.urlopen(request)\n",
    "    jwt_token = json.loads(resp.read())['token']\n",
    "    logging.info('=======>>>>>m3sp: Recieved Token: ' + jwt_token)\n",
    "except:\n",
    "    logging.info('=======>>>>>m3sp: ERROR Authenticating to Server!')\n",
    "\n",
    "# Device headers with the authorization token\n",
    "device_headers = {\n",
    "    'Content-Type': \"application/json\",\n",
    "    'charset': 'utf-8',\n",
    "    'User-Agent': \"FSCT/1.16.2020\",\n",
    "    'Authorization': 'Bearer ' + str(jwt_token)\n",
    "    }"
   ]
  },
  {
   "cell_type": "code",
   "execution_count": null,
   "metadata": {},
   "outputs": [],
   "source": [
    "# ----   ACTION ----\n",
    "device_info = {\n",
    "    'malware_name' : params[\"connect_m3sp_malware_name\"],\n",
    "    'department' : params[\"connect_m3sp_malware_filetype\"]\n",
    "    }\n",
    "\n",
    "response = {}\n",
    "\n",
    "try:\n",
    "    request = urllib.request.Request(base_url + '/api/senddata', headers=device_headers, \\\n",
    "                                     data=bytes(json.dumps(device_info), encoding=\"utf-8\"))\n",
    "    resp = urllib.request.urlopen(request)\n",
    "    request_response = json.loads(resp.read())\n",
    "    if resp.getcode() == 200:\n",
    "        response['succeeded'] = True\n",
    "    else:\n",
    "        response['succeeded'] = False\n",
    "except:\n",
    "    response['succeeded'] = False\n",
    "    logging.info(\"=======>>>>>Error sending data, server reurned: \" + resp.getcode())\n",
    "\n",
    "logging.info(\"=======>>>>>Ending m3sp action Script.: {}\".format(response))"
   ]
  },
  {
   "cell_type": "code",
   "execution_count": null,
   "metadata": {},
   "outputs": [],
   "source": [
    "request_response"
   ]
  },
  {
   "cell_type": "markdown",
   "metadata": {},
   "source": [
    "[Back to Table of Contents](#mainMenu)"
   ]
  },
  {
   "cell_type": "markdown",
   "metadata": {},
   "source": [
    "## 4.3. Final Action Script <a class=\"anchor\" id=\"section_4_3\"></a>"
   ]
  },
  {
   "cell_type": "code",
   "execution_count": null,
   "metadata": {},
   "outputs": [],
   "source": [
    "#%%writefile {actionScript}\n",
    "import json\n",
    "import urllib.request, urllib.error\n",
    "import logging\n",
    "\n",
    "logging.info(\"=======>>>>>Starting m3sp action Script.\")\n",
    "\n",
    "# CT will provide a params{} dictionary with the dependent properties you defined in 'properties.conf' for each of your App's custom properties.\n",
    "logging.info(\"=======>>>>>m3sp: parameters supplied by CT: {}\".format(params))\n",
    "\n",
    "# CT will provide a params{} dictionary with the dependent properties you defined in 'properties.conf' & 'ssytem.conf' for each of your App's custom properties.\n",
    "base_url = params['connect_m3sp_url']\n",
    "\n",
    "payload = {\n",
    "    'username' : params['connect_m3sp_username'],\n",
    "    'password' : params['connect_m3sp_password']\n",
    "    }\n",
    "\n",
    "headers = {\n",
    "    'Content-Type': \"application/json\",\n",
    "    'charset': 'utf-8',\n",
    "    'User-Agent': \"FSCT/1.16.2020\"\n",
    "    }\n",
    "\n",
    "# Authenticate\n",
    "try:\n",
    "    request = urllib.request.Request(base_url + '/api/authenticate', headers=headers, data=bytes(json.dumps(payload), encoding=\"utf-8\"))\n",
    "    resp = urllib.request.urlopen(request)\n",
    "    jwt_token = json.loads(resp.read())['token']\n",
    "    logging.info('=======>>>>>m3sp: Recieved Token: ' + jwt_token)\n",
    "except:\n",
    "    logging.info('=======>>>>>m3sp: ERROR Authenticating to Server!')\n",
    "\n",
    "# Device headers with the authorization token\n",
    "device_headers = {\n",
    "    'Content-Type': \"application/json\",\n",
    "    'charset': 'utf-8',\n",
    "    'User-Agent': \"FSCT/1.16.2020\",\n",
    "    'Authorization': 'Bearer ' + str(jwt_token)\n",
    "    }\n",
    "\n",
    "# ----   ACTION ----\n",
    "device_info = {\n",
    "    'malware_name' : params[\"connect_m3sp_malware_name\"],\n",
    "    'department' : params[\"connect_m3sp_malware_filetype\"]\n",
    "    }\n",
    "\n",
    "response = {}\n",
    "\n",
    "try:\n",
    "    request = urllib.request.Request(base_url + '/api/senddata', headers=device_headers, data=bytes(json.dumps(device_info), encoding=\"utf-8\"))\n",
    "    resp = urllib.request.urlopen(request)\n",
    "    request_response = json.loads(resp.read())\n",
    "    if resp.getcode() == 200:\n",
    "        response['succeeded'] = True\n",
    "    else:\n",
    "        response['succeeded'] = False\n",
    "except:\n",
    "    response['succeeded'] = False\n",
    "    logging.info(\"=======>>>>>Error sending data, server reurned: \" + resp.getcode())\n",
    "\n",
    "logging.info(\"=======>>>>>Ending m3sp action Script.: {}\".format(response))"
   ]
  },
  {
   "cell_type": "code",
   "execution_count": null,
   "metadata": {},
   "outputs": [],
   "source": [
    "# Now build the Final Distribution of the m3sp App - and you will get Live properties updates, and you can send Data!\n",
    "# Congratulations!\n",
    "! python3 -m zipfile -c {folderName}.zip {folderName}/"
   ]
  },
  {
   "cell_type": "markdown",
   "metadata": {},
   "source": [
    "[Back to Table of Contents](#mainMenu)"
   ]
  },
  {
   "cell_type": "markdown",
   "metadata": {},
   "source": [
    "# Appendix A:  Commands on Forescout Platform <a class=\"anchor\" id=\"appendixA\"></a>"
   ]
  },
  {
   "cell_type": "markdown",
   "metadata": {},
   "source": [
    "#### Commands to use on Forescout Platform to debug your App. \n",
    "On Forescout platform you can use the following command to increase to logging to \n",
    "\n",
    "- Set Debug Level to 5 for 10hours: \n",
    "\n",
    "fstool connect_module debug 5 10h\n",
    "\n",
    "- Python Server Logs: \n",
    "\n",
    "cd /usr/local/forescout/plugin/connect_module/python_logs/\n",
    "\n",
    "tail -f python_server.log\n",
    "\n",
    "- Plugin Logs: \n",
    "\n",
    "cd /usr/local/forescout/log/plugin/connect/\n",
    "\n",
    "tail -f connect.log\n",
    "\n",
    "!pip install pyJWT"
   ]
  },
  {
   "cell_type": "markdown",
   "metadata": {},
   "source": [
    "[Back to Table of Contents](#mainMenu)"
   ]
  }
 ],
 "metadata": {
  "kernelspec": {
   "display_name": "Python 3",
   "language": "python",
   "name": "python3"
  },
  "language_info": {
   "codemirror_mode": {
    "name": "ipython",
    "version": 3
   },
   "file_extension": ".py",
   "mimetype": "text/x-python",
   "name": "python",
   "nbconvert_exporter": "python",
   "pygments_lexer": "ipython3",
   "version": "3.7.3"
  }
 },
 "nbformat": 4,
 "nbformat_minor": 2
}
